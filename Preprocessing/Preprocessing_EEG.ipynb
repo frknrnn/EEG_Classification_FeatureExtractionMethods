{
 "cells": [
  {
   "cell_type": "code",
   "execution_count": 1,
   "metadata": {},
   "outputs": [],
   "source": [
    "from IPython.display import display\n",
    "from numpy.random import RandomState\n",
    "from sklearn.linear_model import LogisticRegression, LogisticRegressionCV\n",
    "from sklearn.metrics import accuracy_score, confusion_matrix, make_scorer, precision_recall_fscore_support, roc_auc_score\n",
    "from sklearn.model_selection import GridSearchCV, StratifiedKFold, train_test_split\n",
    "from sklearn.pipeline import Pipeline\n",
    "from sklearn.preprocessing import RobustScaler, StandardScaler\n",
    "import matplotlib.pyplot as plt\n",
    "from matplotlib.pyplot import figure\n",
    "from sklearn.svm import SVC\n",
    "from sklearn.metrics import classification_report,confusion_matrix\n",
    "from sklearn.ensemble import RandomForestClassifier\n",
    "from sklearn.model_selection import train_test_split\n",
    "from sklearn.preprocessing import StandardScaler\n",
    "import pywt\n",
    "import numpy as np\n",
    "import pandas as pd\n",
    "from scipy.fftpack import fft, dct"
   ]
  },
  {
   "cell_type": "code",
   "execution_count": 2,
   "metadata": {},
   "outputs": [],
   "source": [
    "def first_step(image):\n",
    "    l,m =image.shape\n",
    "    u1 = np.array(np.sum(image,axis=1)).reshape(l,1)\n",
    "    u =np.array(u1/np.linalg.norm(u1))\n",
    "    v1 = np.array(np.sum(image,axis=0)).reshape(m,1)\n",
    "    v =np.array(v1/np.linalg.norm(v1))\n",
    "    return l,m,u,v\n",
    "\n",
    "def decomposition(x_batch,limit):\n",
    "    l,m,u_1,v_1=first_step(x_batch)\n",
    "    eigen = []\n",
    "    u=u_1\n",
    "    v=v_1\n",
    "    A=x_batch\n",
    "    for i in range(limit):\n",
    "        j,k =A.shape\n",
    "        alfa = np.matmul(np.matmul(u_1.transpose(),A),v_1)\n",
    "        bet1 = np.eye(j)-(np.matmul(u_1,u_1.transpose()))\n",
    "        bet2 = np.matmul(np.matmul(bet1,A),v_1)\n",
    "        beta = np.linalg.norm(bet2)\n",
    "        u_n = np.array(bet2/beta)\n",
    "        gam1 =np.eye(k)-(np.matmul(v_1,v_1.transpose()))\n",
    "        gam2 =np.matmul(np.matmul(gam1,A.transpose()),u_1)\n",
    "        gama = np.linalg.norm(gam2)\n",
    "        v_n =np.array(gam2/gama)\n",
    "        A_n =np.matmul(np.matmul(bet1,A),gam1)\n",
    "        S_n =alfa*u_1*v_1.transpose()+beta*u_n*v_1.transpose()+gama*u_1*v_n.transpose()\n",
    " \n",
    "        eigen.append(alfa[0][0])\n",
    "        eigen.append(beta)\n",
    "        eigen.append(gama)\n",
    "        \n",
    "        u_1=u_n\n",
    "        v_1=v_n\n",
    "        A=A_n\n",
    "        \n",
    "    return np.array(eigen)"
   ]
  },
  {
   "cell_type": "code",
   "execution_count": 3,
   "metadata": {},
   "outputs": [],
   "source": [
    "X = pd.read_csv('EEG.csv', sep=','  , engine='python')\n",
    "X.drop(\"Unnamed: 0\", axis=1, inplace=True,)"
   ]
  },
  {
   "cell_type": "code",
   "execution_count": 4,
   "metadata": {},
   "outputs": [],
   "source": [
    "X[\"X179\"]=0\n",
    "X[\"X180\"]=0"
   ]
  },
  {
   "cell_type": "code",
   "execution_count": 5,
   "metadata": {},
   "outputs": [],
   "source": [
    "X['y'] = X['y'].replace([2,3, 4, 5], 0 )"
   ]
  },
  {
   "cell_type": "code",
   "execution_count": 6,
   "metadata": {},
   "outputs": [],
   "source": [
    "y = X[\"y\"].copy()\n",
    "np.savetxt(\"eeg_label.csv\", y, delimiter=\",\")\n",
    "X.drop(\"y\", axis=1, inplace=True)"
   ]
  },
  {
   "cell_type": "code",
   "execution_count": 7,
   "metadata": {},
   "outputs": [],
   "source": [
    "X_list=X.values.tolist()"
   ]
  },
  {
   "cell_type": "code",
   "execution_count": 8,
   "metadata": {},
   "outputs": [],
   "source": [
    "tmempr_list = []\n",
    "wavelet_list = []\n",
    "dct_list = []\n",
    "for i in range(11500):\n",
    "    A=decomposition(np.array(X_list[i]).reshape((15,12)),10)\n",
    "    tmempr_list.append(A)\n",
    "    cA, cD = pywt.dwt(X_list[i],'haar')\n",
    "    cA1, cD1 = pywt.dwt(cA,'haar')\n",
    "    cA2, cD2 = pywt.dwt(cA1,'haar')\n",
    "    cA2 = cA2[:30]\n",
    "    wavelet_list.append(cA2)\n",
    "    \n",
    "    a=dct(np.array(X_list[i]).reshape((15,12)))\n",
    "    solution=[[] for i in range(6+6-1)]\n",
    "    for k in range(6): \n",
    "        for m in range(6): \n",
    "            sum=k+m \n",
    "            if(sum%2 ==0): \n",
    "  \n",
    "                #add at beginning \n",
    "                solution[sum].insert(0,a[k][m]) \n",
    "            else: \n",
    "                #add at end of the list \n",
    "                solution[sum].append(a[k][m])\n",
    "    b=[]\n",
    "    for z in range(len(solution)):\n",
    "        for y in range(len(solution[z])):\n",
    "                        b.append(solution[z][y])\n",
    "    b = b[:30]\n",
    "    \n",
    "    dct_list.append(b)\n",
    "    \n",
    "np.savetxt(\"eeg_tmempr.csv\", tmempr_list, delimiter=\",\")\n",
    "np.savetxt(\"eeg_wavelet.csv\", wavelet_list, delimiter=\",\")\n",
    "np.savetxt(\"eeg_dct.csv\", dct_list, delimiter=\",\")"
   ]
  },
  {
   "cell_type": "code",
   "execution_count": null,
   "metadata": {},
   "outputs": [],
   "source": []
  }
 ],
 "metadata": {
  "kernelspec": {
   "display_name": "Python 3",
   "language": "python",
   "name": "python3"
  },
  "language_info": {
   "codemirror_mode": {
    "name": "ipython",
    "version": 3
   },
   "file_extension": ".py",
   "mimetype": "text/x-python",
   "name": "python",
   "nbconvert_exporter": "python",
   "pygments_lexer": "ipython3",
   "version": "3.8.5"
  }
 },
 "nbformat": 4,
 "nbformat_minor": 4
}
