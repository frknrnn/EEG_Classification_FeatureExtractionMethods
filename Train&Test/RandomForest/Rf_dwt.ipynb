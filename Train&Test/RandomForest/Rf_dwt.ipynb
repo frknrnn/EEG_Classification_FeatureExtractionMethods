{
 "cells": [
  {
   "cell_type": "code",
   "execution_count": 1,
   "metadata": {},
   "outputs": [],
   "source": [
    "from sklearn.metrics import precision_score, accuracy_score, recall_score, f1_score\n",
    "from sklearn.model_selection import GridSearchCV, StratifiedKFold, train_test_split\n",
    "import matplotlib.pyplot as plt\n",
    "from matplotlib.pyplot import figure\n",
    "from sklearn.metrics import classification_report,confusion_matrix\n",
    "from sklearn.ensemble import RandomForestClassifier\n",
    "from sklearn.model_selection import train_test_split\n",
    "from sklearn.preprocessing import StandardScaler\n",
    "from sklearn import model_selection\n",
    "from sklearn.model_selection import cross_val_predict\n",
    "import numpy as np\n",
    "import pandas as pd\n",
    "import statistics\n",
    "import time"
   ]
  },
  {
   "cell_type": "code",
   "execution_count": 2,
   "metadata": {},
   "outputs": [],
   "source": [
    "eeg_list = pd.read_csv(\"C:/Users/furka/EEG_TMEMPR_Classification/csv_DataSet/eeg_wavelet.csv\", sep=','  , engine='python').values.tolist()\n",
    "\n",
    "X = eeg_list\n",
    "y = pd.read_csv(\"C:/Users/furka/EEG_TMEMPR_Classification/csv_DataSet/eeg_label.csv\", sep=','  , engine='python').values.tolist()\n",
    "y = np.array(y).reshape((11499))"
   ]
  },
  {
   "cell_type": "code",
   "execution_count": 3,
   "metadata": {},
   "outputs": [],
   "source": [
    "X_scaled = StandardScaler().fit_transform(X)"
   ]
  },
  {
   "cell_type": "code",
   "execution_count": 4,
   "metadata": {},
   "outputs": [],
   "source": [
    "def run_classifier(cv):\n",
    "    Acc_list=[]\n",
    "    Prsc_list = []\n",
    "    Rcl_list=[]\n",
    "    F1_list = []\n",
    "    time_list=[]\n",
    "    for i in range(5):\n",
    "        start_time = time.time()\n",
    "        y_pred = cross_val_predict(RandomForestClassifier(n_estimators=300), X_scaled, y, cv=cv)\n",
    "        finish_time = time.time()\n",
    "        time_list.append(finish_time-start_time)\n",
    "        Acc_list.append(accuracy_score(y, y_pred))\n",
    "        Prsc_list.append(precision_score(y, y_pred))\n",
    "        Rcl_list.append(recall_score(y, y_pred))\n",
    "        F1_list.append(f1_score(y, y_pred))\n",
    "    print(\"Cv: \"+ str(cv))\n",
    "    print(\"Average Accuracy:\"+str(sum(Acc_list)/len(Acc_list))+\" Stdv:\"+str(statistics.stdev(Acc_list)))\n",
    "    print(\"Average Precision:\"+str(sum(Prsc_list)/len(Prsc_list))+\" Stdv:\"+str(statistics.stdev(Prsc_list)))\n",
    "    print(\"Average recall score:\"+str(sum(Rcl_list)/len(Rcl_list))+\" Stdv:\"+str(statistics.stdev(Rcl_list)))\n",
    "    print(\"Average f1_score:\"+str(sum(F1_list)/len(F1_list))+\" Stdv:\"+str(statistics.stdev(F1_list)))\n",
    "    print(\"Average Time :\"+str(sum(time_list)/len(time_list)))"
   ]
  },
  {
   "cell_type": "code",
   "execution_count": 5,
   "metadata": {},
   "outputs": [
    {
     "name": "stdout",
     "output_type": "stream",
     "text": [
      "Cv: 3\n",
      "Average Accuracy:0.9713888164188191 Stdv:0.0002217157802240553\n",
      "Average Precision:0.9334939847368254 Stdv:0.0009311714963686926\n",
      "Average recall score:0.9226956521739129 Stdv:0.0020941903615290984\n",
      "Average f1_score:0.9280614953497363 Stdv:0.0006614756849568109\n",
      "Average Time :36.577872562408444\n",
      "Cv: 5\n",
      "Average Accuracy:0.9729541699278199 Stdv:0.0005993585856200325\n",
      "Average Precision:0.9367588888464036 Stdv:0.001350229108995678\n",
      "Average recall score:0.9273913043478259 Stdv:0.0019685619865516036\n",
      "Average f1_score:0.9320511099832501 Stdv:0.0015295226778964518\n",
      "Average Time :76.38181037902832\n",
      "Cv: 10\n",
      "Average Accuracy:0.9735629185146534 Stdv:0.0005833728091572778\n",
      "Average Precision:0.9384899965331626 Stdv:0.0018020524333755554\n",
      "Average recall score:0.928695652173913 Stdv:0.001442010778415398\n",
      "Average f1_score:0.9335666678848866 Stdv:0.0014520218662439556\n",
      "Average Time :176.2705587387085\n"
     ]
    }
   ],
   "source": [
    "cv_list=[3,5,10]\n",
    "for i in cv_list:\n",
    "    run_classifier(i)"
   ]
  },
  {
   "cell_type": "code",
   "execution_count": null,
   "metadata": {},
   "outputs": [],
   "source": []
  }
 ],
 "metadata": {
  "kernelspec": {
   "display_name": "Python 3",
   "language": "python",
   "name": "python3"
  },
  "language_info": {
   "codemirror_mode": {
    "name": "ipython",
    "version": 3
   },
   "file_extension": ".py",
   "mimetype": "text/x-python",
   "name": "python",
   "nbconvert_exporter": "python",
   "pygments_lexer": "ipython3",
   "version": "3.8.5"
  }
 },
 "nbformat": 4,
 "nbformat_minor": 4
}
