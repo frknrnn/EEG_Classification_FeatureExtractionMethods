{
 "cells": [
  {
   "cell_type": "code",
   "execution_count": 1,
   "metadata": {},
   "outputs": [],
   "source": [
    "from sklearn.metrics import precision_score, accuracy_score, recall_score, f1_score\n",
    "from sklearn.model_selection import GridSearchCV, StratifiedKFold, train_test_split\n",
    "import matplotlib.pyplot as plt\n",
    "from matplotlib.pyplot import figure\n",
    "from sklearn.metrics import classification_report,confusion_matrix\n",
    "from sklearn.ensemble import RandomForestClassifier\n",
    "from sklearn.model_selection import train_test_split\n",
    "from sklearn.preprocessing import StandardScaler\n",
    "from sklearn import model_selection\n",
    "from sklearn.model_selection import cross_val_predict\n",
    "import numpy as np\n",
    "import pandas as pd\n",
    "import statistics\n",
    "import time"
   ]
  },
  {
   "cell_type": "code",
   "execution_count": 2,
   "metadata": {},
   "outputs": [],
   "source": [
    "eeg_list = pd.read_csv(\"C:/Users/furka/EEG_TMEMPR_Classification/csv_DataSet/eeg_tmempr.csv\", sep=','  , engine='python').values.tolist()\n",
    "\n",
    "X = eeg_list\n",
    "y = pd.read_csv(\"C:/Users/furka/EEG_TMEMPR_Classification/csv_DataSet/eeg_label.csv\", sep=','  , engine='python').values.tolist()\n",
    "y = np.array(y).reshape((11499))"
   ]
  },
  {
   "cell_type": "code",
   "execution_count": 3,
   "metadata": {},
   "outputs": [],
   "source": [
    "X_scaled = StandardScaler().fit_transform(X)"
   ]
  },
  {
   "cell_type": "code",
   "execution_count": 4,
   "metadata": {},
   "outputs": [],
   "source": [
    "def run_classifier(cv):\n",
    "    Acc_list=[]\n",
    "    Prsc_list = []\n",
    "    Rcl_list=[]\n",
    "    F1_list = []\n",
    "    time_list=[]\n",
    "    for i in range(5):\n",
    "        start_time = time.time()\n",
    "        y_pred = cross_val_predict(RandomForestClassifier(n_estimators=300), X_scaled, y, cv=cv)\n",
    "        finish_time = time.time()\n",
    "        time_list.append(finish_time-start_time)\n",
    "        Acc_list.append(accuracy_score(y, y_pred))\n",
    "        Prsc_list.append(precision_score(y, y_pred))\n",
    "        Rcl_list.append(recall_score(y, y_pred))\n",
    "        F1_list.append(f1_score(y, y_pred))\n",
    "    print(\"Cv: \"+ str(cv))\n",
    "    print(\"Average Accuracy:\"+str(sum(Acc_list)/len(Acc_list))+\" Stdv:\"+str(statistics.stdev(Acc_list)))\n",
    "    print(\"Average Precision:\"+str(sum(Prsc_list)/len(Prsc_list))+\" Stdv:\"+str(statistics.stdev(Prsc_list)))\n",
    "    print(\"Average recall score:\"+str(sum(Rcl_list)/len(Rcl_list))+\" Stdv:\"+str(statistics.stdev(Rcl_list)))\n",
    "    print(\"Average f1_score:\"+str(sum(F1_list)/len(F1_list))+\" Stdv:\"+str(statistics.stdev(F1_list)))\n",
    "    print(\"Average Time :\"+str(sum(time_list)/len(time_list)))"
   ]
  },
  {
   "cell_type": "code",
   "execution_count": 5,
   "metadata": {},
   "outputs": [
    {
     "name": "stdout",
     "output_type": "stream",
     "text": [
      "Cv: 3\n",
      "Average Accuracy:0.9714757805026524 Stdv:0.0003311493654171843\n",
      "Average Precision:0.9494091417837419 Stdv:0.0011946850669658237\n",
      "Average recall score:0.9056521739130435 Stdv:0.0015974933105107878\n",
      "Average f1_score:0.9270134953916171 Stdv:0.0008748772316459266\n",
      "Average Time :29.222106075286867\n",
      "Cv: 5\n",
      "Average Accuracy:0.9716497086703191 Stdv:0.0003195264470105883\n",
      "Average Precision:0.9473354755763479 Stdv:0.0006965206938294545\n",
      "Average recall score:0.9087826086956522 Stdv:0.001549437363583096\n",
      "Average f1_score:0.9276579977474508 Stdv:0.0008608510562022613\n",
      "Average Time :61.25180172920227\n",
      "Cv: 10\n",
      "Average Accuracy:0.972571527958953 Stdv:0.00023496401575973292\n",
      "Average Precision:0.9495342927083431 Stdv:0.0005856039238984368\n",
      "Average recall score:0.911304347826087 Stdv:0.0016268075594669082\n",
      "Average f1_score:0.9300256490038187 Stdv:0.0006676390810383101\n",
      "Average Time :139.55143032073974\n"
     ]
    }
   ],
   "source": [
    "cv_list=[3,5,10]\n",
    "for i in cv_list:\n",
    "    run_classifier(i)"
   ]
  },
  {
   "cell_type": "code",
   "execution_count": null,
   "metadata": {},
   "outputs": [],
   "source": []
  }
 ],
 "metadata": {
  "kernelspec": {
   "display_name": "Python 3",
   "language": "python",
   "name": "python3"
  },
  "language_info": {
   "codemirror_mode": {
    "name": "ipython",
    "version": 3
   },
   "file_extension": ".py",
   "mimetype": "text/x-python",
   "name": "python",
   "nbconvert_exporter": "python",
   "pygments_lexer": "ipython3",
   "version": "3.8.5"
  }
 },
 "nbformat": 4,
 "nbformat_minor": 4
}
