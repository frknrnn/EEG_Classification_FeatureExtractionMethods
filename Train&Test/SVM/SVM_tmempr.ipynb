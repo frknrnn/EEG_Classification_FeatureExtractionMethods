{
 "cells": [
  {
   "cell_type": "code",
   "execution_count": 1,
   "metadata": {},
   "outputs": [],
   "source": [
    "from sklearn.metrics import precision_score, accuracy_score, recall_score, f1_score\n",
    "from sklearn.model_selection import GridSearchCV, StratifiedKFold, train_test_split\n",
    "import matplotlib.pyplot as plt\n",
    "from matplotlib.pyplot import figure\n",
    "from sklearn.metrics import classification_report,confusion_matrix\n",
    "from sklearn.ensemble import RandomForestClassifier\n",
    "from sklearn.model_selection import train_test_split\n",
    "from sklearn.preprocessing import StandardScaler\n",
    "from sklearn import model_selection\n",
    "from sklearn.model_selection import cross_val_predict\n",
    "import numpy as np\n",
    "import pandas as pd\n",
    "import statistics\n",
    "import time\n",
    "from sklearn import svm"
   ]
  },
  {
   "cell_type": "code",
   "execution_count": 2,
   "metadata": {},
   "outputs": [],
   "source": [
    "eeg_list = pd.read_csv(\"C:/Users/furka/EEG_TMEMPR_Classification/csv_DataSet/eeg_tmempr.csv\", sep=','  , engine='python').values.tolist()\n",
    "\n",
    "X = eeg_list\n",
    "y = pd.read_csv(\"C:/Users/furka/EEG_TMEMPR_Classification/csv_DataSet/eeg_label.csv\", sep=','  , engine='python').values.tolist()\n",
    "y = np.array(y).reshape((11499))"
   ]
  },
  {
   "cell_type": "code",
   "execution_count": 3,
   "metadata": {},
   "outputs": [],
   "source": [
    "X_scaled = StandardScaler().fit_transform(X)"
   ]
  },
  {
   "cell_type": "code",
   "execution_count": 4,
   "metadata": {},
   "outputs": [],
   "source": [
    "def run_classifier(cv):\n",
    "    Acc_list=[]\n",
    "    Prsc_list = []\n",
    "    Rcl_list=[]\n",
    "    F1_list = []\n",
    "    time_list=[]\n",
    "    for i in range(5):\n",
    "        start_time = time.time()\n",
    "        y_pred = cross_val_predict(svm.SVC(), X_scaled, y, cv=cv)\n",
    "        finish_time = time.time()\n",
    "        time_list.append(finish_time-start_time)\n",
    "        Acc_list.append(accuracy_score(y, y_pred))\n",
    "        Prsc_list.append(precision_score(y, y_pred))\n",
    "        Rcl_list.append(recall_score(y, y_pred))\n",
    "        F1_list.append(f1_score(y, y_pred))\n",
    "    print(\"Cv: \"+ str(cv))\n",
    "    print(\"Average Accuracy:\"+str(sum(Acc_list)/len(Acc_list))+\" Stdv:\"+str(statistics.stdev(Acc_list)))\n",
    "    print(\"Average Precision:\"+str(sum(Prsc_list)/len(Prsc_list))+\" Stdv:\"+str(statistics.stdev(Prsc_list)))\n",
    "    print(\"Average recall score:\"+str(sum(Rcl_list)/len(Rcl_list))+\" Stdv:\"+str(statistics.stdev(Rcl_list)))\n",
    "    print(\"Average f1_score:\"+str(sum(F1_list)/len(F1_list))+\" Stdv:\"+str(statistics.stdev(F1_list)))\n",
    "    print(\"Average Time :\"+str(sum(time_list)/len(time_list)))"
   ]
  },
  {
   "cell_type": "code",
   "execution_count": 5,
   "metadata": {},
   "outputs": [
    {
     "name": "stdout",
     "output_type": "stream",
     "text": [
      "Cv: 3\n",
      "Average Accuracy:0.9670406122271501 Stdv:0.0\n",
      "Average Precision:0.9407985314364387 Stdv:0.0\n",
      "Average recall score:0.8913043478260869 Stdv:0.0\n",
      "Average f1_score:0.9153828979682965 Stdv:0.0\n",
      "Average Time :1.9637903213500976\n",
      "Cv: 5\n",
      "Average Accuracy:0.9688668579876512 Stdv:0.0\n",
      "Average Precision:0.9454128440366972 Stdv:0.0\n",
      "Average recall score:0.896086956521739 Stdv:0.0\n",
      "Average f1_score:0.9200892857142857 Stdv:0.0\n",
      "Average Time :3.876505136489868\n",
      "Cv: 10\n",
      "Average Accuracy:0.9700843551613184 Stdv:0.0\n",
      "Average Precision:0.9465753424657535 Stdv:0.0\n",
      "Average recall score:0.9013043478260869 Stdv:0.0\n",
      "Average f1_score:0.9233853006681516 Stdv:0.0\n",
      "Average Time :8.843194723129272\n",
      "Cv: 20\n",
      "Average Accuracy:0.9699104269936516 Stdv:0.0\n",
      "Average Precision:0.9457116788321167 Stdv:0.0\n",
      "Average recall score:0.9013043478260869 Stdv:0.0\n",
      "Average f1_score:0.9229741763134461 Stdv:0.0\n",
      "Average Time :18.548445415496825\n",
      "Cv: 30\n",
      "Average Accuracy:0.9692147143229846 Stdv:0.0\n",
      "Average Precision:0.9438868613138686 Stdv:0.0\n",
      "Average recall score:0.8995652173913044 Stdv:0.0\n",
      "Average f1_score:0.9211932324131789 Stdv:0.0\n",
      "Average Time :28.170425796508788\n",
      "Cv: 40\n",
      "Average Accuracy:0.9693016784068181 Stdv:0.0\n",
      "Average Precision:0.9439124487004105 Stdv:0.0\n",
      "Average recall score:0.9 Stdv:0.0\n",
      "Average f1_score:0.9214333407522813 Stdv:0.0\n",
      "Average Time :37.791556692123415\n",
      "Cv: 80\n",
      "Average Accuracy:0.9693016784068181 Stdv:0.0\n",
      "Average Precision:0.9443176631675033 Stdv:0.0\n",
      "Average recall score:0.8995652173913044 Stdv:0.0\n",
      "Average f1_score:0.9213983522600756 Stdv:0.0\n",
      "Average Time :77.52801413536072\n"
     ]
    }
   ],
   "source": [
    "cv_list=[3,5,10]\n",
    "for i in cv_list:\n",
    "    run_classifier(i)"
   ]
  }
 ],
 "metadata": {
  "kernelspec": {
   "display_name": "Python 3",
   "language": "python",
   "name": "python3"
  },
  "language_info": {
   "codemirror_mode": {
    "name": "ipython",
    "version": 3
   },
   "file_extension": ".py",
   "mimetype": "text/x-python",
   "name": "python",
   "nbconvert_exporter": "python",
   "pygments_lexer": "ipython3",
   "version": "3.8.5"
  }
 },
 "nbformat": 4,
 "nbformat_minor": 4
}
